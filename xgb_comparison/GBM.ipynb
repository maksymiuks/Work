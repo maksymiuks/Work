{
 "cells": [
  {
   "cell_type": "code",
   "execution_count": 1,
   "metadata": {},
   "outputs": [],
   "source": [
    "from pandas import DataFrame, read_csv\n",
    "import matplotlib.pyplot as plt\n",
    "import pandas as pd \n",
    "import pickle\n",
    "import xgboost as xgb\n",
    "import sklearn.ensemble\n",
    "from sklearn.metrics import auc, accuracy_score, confusion_matrix, mean_squared_error\n"
   ]
  },
  {
   "cell_type": "code",
   "execution_count": 2,
   "metadata": {},
   "outputs": [],
   "source": [
    "titanic_train = pd.read_csv('titanic_train.csv', delimiter=\",\")\n",
    "titanic_test = pd.read_csv('titanic_test.csv', delimiter=\",\")\n",
    "\n",
    "\n"
   ]
  },
  {
   "cell_type": "code",
   "execution_count": 3,
   "metadata": {},
   "outputs": [],
   "source": [
    "titanic_train = titanic_train[['gender.female', 'gender.male', 'age', 'class.1st',\n",
    "       'class.2nd', 'class.3rd', 'class.deck.crew', 'class.engineering.crew',\n",
    "       'class.restaurant.staff', 'class.victualling.crew', 'embarked.Belfast',\n",
    "       'embarked.Cherbourg', 'embarked.Queenstown', 'embarked.Southampton',\n",
    "       'fare', 'sibsp', 'parch', 'survived']]\n",
    "titanic_test = titanic_test[['gender.female', 'gender.male', 'age', 'class.1st',\n",
    "       'class.2nd', 'class.3rd', 'class.deck.crew', 'class.engineering.crew',\n",
    "       'class.restaurant.staff', 'class.victualling.crew', 'embarked.Belfast',\n",
    "       'embarked.Cherbourg', 'embarked.Queenstown', 'embarked.Southampton',\n",
    "       'fare', 'sibsp', 'parch', 'survived']]\n",
    "titanic_train_Y = titanic_train[['survived']]\n",
    "titanic_train_X = titanic_train[['gender.female', 'gender.male', 'age', 'class.1st',\n",
    "       'class.2nd', 'class.3rd', 'class.deck.crew', 'class.engineering.crew',\n",
    "       'class.restaurant.staff', 'class.victualling.crew', 'embarked.Belfast',\n",
    "       'embarked.Cherbourg', 'embarked.Queenstown', 'embarked.Southampton',\n",
    "       'fare', 'sibsp', 'parch']]\n",
    "titanic_test_Y = titanic_test[['survived']]\n",
    "titanic_test_X = titanic_test[['gender.female', 'gender.male', 'age', 'class.1st',\n",
    "       'class.2nd', 'class.3rd', 'class.deck.crew', 'class.engineering.crew',\n",
    "       'class.restaurant.staff', 'class.victualling.crew', 'embarked.Belfast',\n",
    "       'embarked.Cherbourg', 'embarked.Queenstown', 'embarked.Southampton',\n",
    "       'fare', 'sibsp', 'parch']]\n"
   ]
  },
  {
   "cell_type": "code",
   "execution_count": 4,
   "metadata": {},
   "outputs": [],
   "source": [
    "model = sklearn.ensemble.GradientBoostingClassifier(n_estimators= 5000 ,learning_rate=0.001, max_depth=4, min_samples_split = 12)"
   ]
  },
  {
   "cell_type": "code",
   "execution_count": 5,
   "metadata": {
    "scrolled": true
   },
   "outputs": [
    {
     "name": "stderr",
     "output_type": "stream",
     "text": [
      "C:\\Users\\szyna\\Anaconda3\\lib\\site-packages\\sklearn\\utils\\validation.py:761: DataConversionWarning: A column-vector y was passed when a 1d array was expected. Please change the shape of y to (n_samples, ), for example using ravel().\n",
      "  y = column_or_1d(y, warn=True)\n"
     ]
    }
   ],
   "source": [
    "model = model.fit(titanic_train_X, titanic_train_Y)"
   ]
  },
  {
   "cell_type": "code",
   "execution_count": 6,
   "metadata": {},
   "outputs": [
    {
     "data": {
      "text/plain": [
       "array([[0.38932061, 0.61067939],\n",
       "       [0.82726079, 0.17273921],\n",
       "       [0.18373071, 0.81626929],\n",
       "       ...,\n",
       "       [0.83719062, 0.16280938],\n",
       "       [0.82020737, 0.17979263],\n",
       "       [0.93203087, 0.06796913]])"
      ]
     },
     "execution_count": 6,
     "metadata": {},
     "output_type": "execute_result"
    }
   ],
   "source": [
    "y_pred = model.predict_proba(titanic_test_X)\n",
    "y_pred"
   ]
  },
  {
   "cell_type": "code",
   "execution_count": 7,
   "metadata": {},
   "outputs": [
    {
     "data": {
      "text/plain": [
       "0.8244396104889281"
      ]
     },
     "execution_count": 7,
     "metadata": {},
     "output_type": "execute_result"
    }
   ],
   "source": [
    "sklearn.metrics.roc_auc_score(titanic_test_Y, y_pred[:,1])"
   ]
  },
  {
   "cell_type": "code",
   "execution_count": 8,
   "metadata": {},
   "outputs": [],
   "source": [
    "pickle.dump(model, open(\"gbm.pkl\", \"wb\"))"
   ]
  },
  {
   "cell_type": "code",
   "execution_count": null,
   "metadata": {},
   "outputs": [],
   "source": []
  }
 ],
 "metadata": {
  "kernelspec": {
   "display_name": "Python 3",
   "language": "python",
   "name": "python3"
  },
  "language_info": {
   "codemirror_mode": {
    "name": "ipython",
    "version": 3
   },
   "file_extension": ".py",
   "mimetype": "text/x-python",
   "name": "python",
   "nbconvert_exporter": "python",
   "pygments_lexer": "ipython3",
   "version": "3.7.3"
  }
 },
 "nbformat": 4,
 "nbformat_minor": 2
}
